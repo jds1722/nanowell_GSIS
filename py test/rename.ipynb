{
 "cells": [
  {
   "cell_type": "code",
   "execution_count": 1,
   "metadata": {},
   "outputs": [],
   "source": [
    "import os\n",
    "import glob\n",
    "\n"
   ]
  },
  {
   "cell_type": "code",
   "execution_count": 21,
   "metadata": {},
   "outputs": [
    {
     "name": "stdout",
     "output_type": "stream",
     "text": [
      "All Files Renamed\n",
      "New Names are\n",
      "['KCl_2  dead_GFP_Pos1.tif', 'KCl_2  dead_GFP_Pos2.tif', 'KCl_2  dead_GFP_Pos3.tif', 'KCl_2  dead_GFP_Pos4.tif', 'KCl_2  dead_GFP_Pos5.tif', 'KCl_2  dead_GFP_Pos6.tif', 'KCl_2  dead_GFP_Pos7.tif']\n",
      "All Files Renamed\n",
      "New Names are\n",
      "['KCl_2  dead_GFP_Neg1.tif', 'KCl_2  dead_GFP_Neg10.tif', 'KCl_2  dead_GFP_Neg11.tif', 'KCl_2  dead_GFP_Neg12.tif', 'KCl_2  dead_GFP_Neg13.tif', 'KCl_2  dead_GFP_Neg14.tif', 'KCl_2  dead_GFP_Neg15.tif', 'KCl_2  dead_GFP_Neg16.tif', 'KCl_2  dead_GFP_Neg17.tif', 'KCl_2  dead_GFP_Neg18.tif', 'KCl_2  dead_GFP_Neg19.tif', 'KCl_2  dead_GFP_Neg2.tif', 'KCl_2  dead_GFP_Neg20.tif', 'KCl_2  dead_GFP_Neg21.tif', 'KCl_2  dead_GFP_Neg22.tif', 'KCl_2  dead_GFP_Neg23.tif', 'KCl_2  dead_GFP_Neg24.tif', 'KCl_2  dead_GFP_Neg25.tif', 'KCl_2  dead_GFP_Neg26.tif', 'KCl_2  dead_GFP_Neg27.tif', 'KCl_2  dead_GFP_Neg28.tif', 'KCl_2  dead_GFP_Neg29.tif', 'KCl_2  dead_GFP_Neg3.tif', 'KCl_2  dead_GFP_Neg30.tif', 'KCl_2  dead_GFP_Neg31.tif', 'KCl_2  dead_GFP_Neg4.tif', 'KCl_2  dead_GFP_Neg5.tif', 'KCl_2  dead_GFP_Neg6.tif', 'KCl_2  dead_GFP_Neg7.tif', 'KCl_2  dead_GFP_Neg8.tif', 'KCl_2  dead_GFP_Neg9.tif']\n",
      "All Files Renamed\n",
      "New Names are\n",
      "['KCl_2  live_GFP_Pos1.tif', 'KCl_2  live_GFP_Pos10.tif', 'KCl_2  live_GFP_Pos11.tif', 'KCl_2  live_GFP_Pos12.tif', 'KCl_2  live_GFP_Pos13.tif', 'KCl_2  live_GFP_Pos14.tif', 'KCl_2  live_GFP_Pos15.tif', 'KCl_2  live_GFP_Pos16.tif', 'KCl_2  live_GFP_Pos17.tif', 'KCl_2  live_GFP_Pos18.tif', 'KCl_2  live_GFP_Pos19.tif', 'KCl_2  live_GFP_Pos2.tif', 'KCl_2  live_GFP_Pos20.tif', 'KCl_2  live_GFP_Pos21.tif', 'KCl_2  live_GFP_Pos22.tif', 'KCl_2  live_GFP_Pos23.tif', 'KCl_2  live_GFP_Pos24.tif', 'KCl_2  live_GFP_Pos25.tif', 'KCl_2  live_GFP_Pos26.tif', 'KCl_2  live_GFP_Pos27.tif', 'KCl_2  live_GFP_Pos28.tif', 'KCl_2  live_GFP_Pos29.tif', 'KCl_2  live_GFP_Pos3.tif', 'KCl_2  live_GFP_Pos30.tif', 'KCl_2  live_GFP_Pos31.tif', 'KCl_2  live_GFP_Pos32.tif', 'KCl_2  live_GFP_Pos33.tif', 'KCl_2  live_GFP_Pos34.tif', 'KCl_2  live_GFP_Pos35.tif', 'KCl_2  live_GFP_Pos36.tif', 'KCl_2  live_GFP_Pos37.tif', 'KCl_2  live_GFP_Pos38.tif', 'KCl_2  live_GFP_Pos39.tif', 'KCl_2  live_GFP_Pos4.tif', 'KCl_2  live_GFP_Pos40.tif', 'KCl_2  live_GFP_Pos41.tif', 'KCl_2  live_GFP_Pos42.tif', 'KCl_2  live_GFP_Pos43.tif', 'KCl_2  live_GFP_Pos44.tif', 'KCl_2  live_GFP_Pos45.tif', 'KCl_2  live_GFP_Pos5.tif', 'KCl_2  live_GFP_Pos6.tif', 'KCl_2  live_GFP_Pos7.tif', 'KCl_2  live_GFP_Pos8.tif', 'KCl_2  live_GFP_Pos9.tif']\n",
      "All Files Renamed\n",
      "New Names are\n",
      "['KCl_2  live_GFP_Neg1.tif', 'KCl_2  live_GFP_Neg10.tif', 'KCl_2  live_GFP_Neg100.tif', 'KCl_2  live_GFP_Neg101.tif', 'KCl_2  live_GFP_Neg102.tif', 'KCl_2  live_GFP_Neg103.tif', 'KCl_2  live_GFP_Neg104.tif', 'KCl_2  live_GFP_Neg105.tif', 'KCl_2  live_GFP_Neg106.tif', 'KCl_2  live_GFP_Neg107.tif', 'KCl_2  live_GFP_Neg108.tif', 'KCl_2  live_GFP_Neg109.tif', 'KCl_2  live_GFP_Neg11.tif', 'KCl_2  live_GFP_Neg110.tif', 'KCl_2  live_GFP_Neg111.tif', 'KCl_2  live_GFP_Neg112.tif', 'KCl_2  live_GFP_Neg113.tif', 'KCl_2  live_GFP_Neg114.tif', 'KCl_2  live_GFP_Neg115.tif', 'KCl_2  live_GFP_Neg116.tif', 'KCl_2  live_GFP_Neg117.tif', 'KCl_2  live_GFP_Neg118.tif', 'KCl_2  live_GFP_Neg119.tif', 'KCl_2  live_GFP_Neg12.tif', 'KCl_2  live_GFP_Neg120.tif', 'KCl_2  live_GFP_Neg121.tif', 'KCl_2  live_GFP_Neg122.tif', 'KCl_2  live_GFP_Neg123.tif', 'KCl_2  live_GFP_Neg124.tif', 'KCl_2  live_GFP_Neg125.tif', 'KCl_2  live_GFP_Neg126.tif', 'KCl_2  live_GFP_Neg127.tif', 'KCl_2  live_GFP_Neg128.tif', 'KCl_2  live_GFP_Neg129.tif', 'KCl_2  live_GFP_Neg13.tif', 'KCl_2  live_GFP_Neg130.tif', 'KCl_2  live_GFP_Neg131.tif', 'KCl_2  live_GFP_Neg132.tif', 'KCl_2  live_GFP_Neg133.tif', 'KCl_2  live_GFP_Neg134.tif', 'KCl_2  live_GFP_Neg135.tif', 'KCl_2  live_GFP_Neg136.tif', 'KCl_2  live_GFP_Neg137.tif', 'KCl_2  live_GFP_Neg138.tif', 'KCl_2  live_GFP_Neg139.tif', 'KCl_2  live_GFP_Neg14.tif', 'KCl_2  live_GFP_Neg140.tif', 'KCl_2  live_GFP_Neg141.tif', 'KCl_2  live_GFP_Neg142.tif', 'KCl_2  live_GFP_Neg143.tif', 'KCl_2  live_GFP_Neg144.tif', 'KCl_2  live_GFP_Neg145.tif', 'KCl_2  live_GFP_Neg146.tif', 'KCl_2  live_GFP_Neg147.tif', 'KCl_2  live_GFP_Neg148.tif', 'KCl_2  live_GFP_Neg149.tif', 'KCl_2  live_GFP_Neg15.tif', 'KCl_2  live_GFP_Neg150.tif', 'KCl_2  live_GFP_Neg151.tif', 'KCl_2  live_GFP_Neg152.tif', 'KCl_2  live_GFP_Neg153.tif', 'KCl_2  live_GFP_Neg154.tif', 'KCl_2  live_GFP_Neg155.tif', 'KCl_2  live_GFP_Neg156.tif', 'KCl_2  live_GFP_Neg157.tif', 'KCl_2  live_GFP_Neg158.tif', 'KCl_2  live_GFP_Neg159.tif', 'KCl_2  live_GFP_Neg16.tif', 'KCl_2  live_GFP_Neg160.tif', 'KCl_2  live_GFP_Neg161.tif', 'KCl_2  live_GFP_Neg162.tif', 'KCl_2  live_GFP_Neg163.tif', 'KCl_2  live_GFP_Neg164.tif', 'KCl_2  live_GFP_Neg165.tif', 'KCl_2  live_GFP_Neg166.tif', 'KCl_2  live_GFP_Neg167.tif', 'KCl_2  live_GFP_Neg168.tif', 'KCl_2  live_GFP_Neg169.tif', 'KCl_2  live_GFP_Neg17.tif', 'KCl_2  live_GFP_Neg170.tif', 'KCl_2  live_GFP_Neg171.tif', 'KCl_2  live_GFP_Neg172.tif', 'KCl_2  live_GFP_Neg173.tif', 'KCl_2  live_GFP_Neg174.tif', 'KCl_2  live_GFP_Neg175.tif', 'KCl_2  live_GFP_Neg176.tif', 'KCl_2  live_GFP_Neg177.tif', 'KCl_2  live_GFP_Neg178.tif', 'KCl_2  live_GFP_Neg179.tif', 'KCl_2  live_GFP_Neg18.tif', 'KCl_2  live_GFP_Neg19.tif', 'KCl_2  live_GFP_Neg2.tif', 'KCl_2  live_GFP_Neg20.tif', 'KCl_2  live_GFP_Neg21.tif', 'KCl_2  live_GFP_Neg22.tif', 'KCl_2  live_GFP_Neg23.tif', 'KCl_2  live_GFP_Neg24.tif', 'KCl_2  live_GFP_Neg25.tif', 'KCl_2  live_GFP_Neg26.tif', 'KCl_2  live_GFP_Neg27.tif', 'KCl_2  live_GFP_Neg28.tif', 'KCl_2  live_GFP_Neg29.tif', 'KCl_2  live_GFP_Neg3.tif', 'KCl_2  live_GFP_Neg30.tif', 'KCl_2  live_GFP_Neg31.tif', 'KCl_2  live_GFP_Neg32.tif', 'KCl_2  live_GFP_Neg33.tif', 'KCl_2  live_GFP_Neg34.tif', 'KCl_2  live_GFP_Neg35.tif', 'KCl_2  live_GFP_Neg36.tif', 'KCl_2  live_GFP_Neg37.tif', 'KCl_2  live_GFP_Neg38.tif', 'KCl_2  live_GFP_Neg39.tif', 'KCl_2  live_GFP_Neg4.tif', 'KCl_2  live_GFP_Neg40.tif', 'KCl_2  live_GFP_Neg41.tif', 'KCl_2  live_GFP_Neg42.tif', 'KCl_2  live_GFP_Neg43.tif', 'KCl_2  live_GFP_Neg44.tif', 'KCl_2  live_GFP_Neg45.tif', 'KCl_2  live_GFP_Neg46.tif', 'KCl_2  live_GFP_Neg47.tif', 'KCl_2  live_GFP_Neg48.tif', 'KCl_2  live_GFP_Neg49.tif', 'KCl_2  live_GFP_Neg5.tif', 'KCl_2  live_GFP_Neg50.tif', 'KCl_2  live_GFP_Neg51.tif', 'KCl_2  live_GFP_Neg52.tif', 'KCl_2  live_GFP_Neg53.tif', 'KCl_2  live_GFP_Neg54.tif', 'KCl_2  live_GFP_Neg55.tif', 'KCl_2  live_GFP_Neg56.tif', 'KCl_2  live_GFP_Neg57.tif', 'KCl_2  live_GFP_Neg58.tif', 'KCl_2  live_GFP_Neg59.tif', 'KCl_2  live_GFP_Neg6.tif', 'KCl_2  live_GFP_Neg60.tif', 'KCl_2  live_GFP_Neg61.tif', 'KCl_2  live_GFP_Neg62.tif', 'KCl_2  live_GFP_Neg63.tif', 'KCl_2  live_GFP_Neg64.tif', 'KCl_2  live_GFP_Neg65.tif', 'KCl_2  live_GFP_Neg66.tif', 'KCl_2  live_GFP_Neg67.tif', 'KCl_2  live_GFP_Neg68.tif', 'KCl_2  live_GFP_Neg69.tif', 'KCl_2  live_GFP_Neg7.tif', 'KCl_2  live_GFP_Neg70.tif', 'KCl_2  live_GFP_Neg71.tif', 'KCl_2  live_GFP_Neg72.tif', 'KCl_2  live_GFP_Neg73.tif', 'KCl_2  live_GFP_Neg74.tif', 'KCl_2  live_GFP_Neg75.tif', 'KCl_2  live_GFP_Neg76.tif', 'KCl_2  live_GFP_Neg77.tif', 'KCl_2  live_GFP_Neg78.tif', 'KCl_2  live_GFP_Neg79.tif', 'KCl_2  live_GFP_Neg8.tif', 'KCl_2  live_GFP_Neg80.tif', 'KCl_2  live_GFP_Neg81.tif', 'KCl_2  live_GFP_Neg82.tif', 'KCl_2  live_GFP_Neg83.tif', 'KCl_2  live_GFP_Neg84.tif', 'KCl_2  live_GFP_Neg85.tif', 'KCl_2  live_GFP_Neg86.tif', 'KCl_2  live_GFP_Neg87.tif', 'KCl_2  live_GFP_Neg88.tif', 'KCl_2  live_GFP_Neg89.tif', 'KCl_2  live_GFP_Neg9.tif', 'KCl_2  live_GFP_Neg90.tif', 'KCl_2  live_GFP_Neg91.tif', 'KCl_2  live_GFP_Neg92.tif', 'KCl_2  live_GFP_Neg93.tif', 'KCl_2  live_GFP_Neg94.tif', 'KCl_2  live_GFP_Neg95.tif', 'KCl_2  live_GFP_Neg96.tif', 'KCl_2  live_GFP_Neg97.tif', 'KCl_2  live_GFP_Neg98.tif', 'KCl_2  live_GFP_Neg99.tif']\n"
     ]
    }
   ],
   "source": [
    "Ins_condition='KCl_2'\n",
    "dirfolder = r'G:\\mju cloud\\OneDrive - UBC\\Data\\2023\\week5\\crop 01312023 GSIS\\\\'\n",
    "subfoldername = ['dead_GFP_Pos', 'dead_GFP_Neg', 'live_GFP_Pos', 'live_GFP_Neg']\n",
    "\n",
    "for j in range(len(subfoldername)):\n",
    "    count = 1\n",
    "    folder = dirfolder + '\\\\' + Ins_condition + '\\\\' + subfoldername[j] +'\\\\'\n",
    "    for file_name in os.listdir(folder):\n",
    "        # Construct old file name\n",
    "        source = folder + file_name\n",
    "\n",
    "        # Adding the count to the new file name and extension\n",
    "        destination = folder + Ins_condition + '  ' + subfoldername[j] + str(count) + \".tif\"\n",
    "        # Renaming the file\n",
    "        os.rename(source, destination)\n",
    "        count += 1\n",
    "    print('All Files Renamed')\n",
    "\n",
    "    print('New Names are')\n",
    "    # verify the result\n",
    "    res = os.listdir(folder)\n",
    "    print(res)\n",
    "   "
   ]
  }
 ],
 "metadata": {
  "kernelspec": {
   "display_name": "nanowell",
   "language": "python",
   "name": "python3"
  },
  "language_info": {
   "codemirror_mode": {
    "name": "ipython",
    "version": 3
   },
   "file_extension": ".py",
   "mimetype": "text/x-python",
   "name": "python",
   "nbconvert_exporter": "python",
   "pygments_lexer": "ipython3",
   "version": "3.9.0"
  },
  "orig_nbformat": 4,
  "vscode": {
   "interpreter": {
    "hash": "9aff0485b2af15bbcb51acac99a74e88a9143cf1cbb6897537e683ef34e2cd82"
   }
  }
 },
 "nbformat": 4,
 "nbformat_minor": 2
}
